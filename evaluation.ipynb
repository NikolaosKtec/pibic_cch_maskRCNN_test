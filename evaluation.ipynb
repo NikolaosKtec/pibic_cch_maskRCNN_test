{
 "cells": [
  {
   "attachments": {},
   "cell_type": "markdown",
   "metadata": {},
   "source": [
    "<h1>Calculating mean Average Precision (mAP)</h1>"
   ]
  },
  {
   "cell_type": "code",
   "execution_count": 2,
   "metadata": {},
   "outputs": [
    {
     "name": "stderr",
     "output_type": "stream",
     "text": [
      "/home/niko/.local/lib/python3.7/site-packages/tensorflow/python/framework/dtypes.py:516: FutureWarning: Passing (type, 1) or '1type' as a synonym of type is deprecated; in a future version of numpy, it will be understood as (type, (1,)) / '(1,)type'.\n",
      "  _np_qint8 = np.dtype([(\"qint8\", np.int8, 1)])\n",
      "/home/niko/.local/lib/python3.7/site-packages/tensorflow/python/framework/dtypes.py:517: FutureWarning: Passing (type, 1) or '1type' as a synonym of type is deprecated; in a future version of numpy, it will be understood as (type, (1,)) / '(1,)type'.\n",
      "  _np_quint8 = np.dtype([(\"quint8\", np.uint8, 1)])\n",
      "/home/niko/.local/lib/python3.7/site-packages/tensorflow/python/framework/dtypes.py:518: FutureWarning: Passing (type, 1) or '1type' as a synonym of type is deprecated; in a future version of numpy, it will be understood as (type, (1,)) / '(1,)type'.\n",
      "  _np_qint16 = np.dtype([(\"qint16\", np.int16, 1)])\n",
      "/home/niko/.local/lib/python3.7/site-packages/tensorflow/python/framework/dtypes.py:519: FutureWarning: Passing (type, 1) or '1type' as a synonym of type is deprecated; in a future version of numpy, it will be understood as (type, (1,)) / '(1,)type'.\n",
      "  _np_quint16 = np.dtype([(\"quint16\", np.uint16, 1)])\n",
      "/home/niko/.local/lib/python3.7/site-packages/tensorflow/python/framework/dtypes.py:520: FutureWarning: Passing (type, 1) or '1type' as a synonym of type is deprecated; in a future version of numpy, it will be understood as (type, (1,)) / '(1,)type'.\n",
      "  _np_qint32 = np.dtype([(\"qint32\", np.int32, 1)])\n",
      "/home/niko/.local/lib/python3.7/site-packages/tensorflow/python/framework/dtypes.py:525: FutureWarning: Passing (type, 1) or '1type' as a synonym of type is deprecated; in a future version of numpy, it will be understood as (type, (1,)) / '(1,)type'.\n",
      "  np_resource = np.dtype([(\"resource\", np.ubyte, 1)])\n",
      "/home/niko/.local/lib/python3.7/site-packages/tensorboard/compat/tensorflow_stub/dtypes.py:541: FutureWarning: Passing (type, 1) or '1type' as a synonym of type is deprecated; in a future version of numpy, it will be understood as (type, (1,)) / '(1,)type'.\n",
      "  _np_qint8 = np.dtype([(\"qint8\", np.int8, 1)])\n",
      "/home/niko/.local/lib/python3.7/site-packages/tensorboard/compat/tensorflow_stub/dtypes.py:542: FutureWarning: Passing (type, 1) or '1type' as a synonym of type is deprecated; in a future version of numpy, it will be understood as (type, (1,)) / '(1,)type'.\n",
      "  _np_quint8 = np.dtype([(\"quint8\", np.uint8, 1)])\n",
      "/home/niko/.local/lib/python3.7/site-packages/tensorboard/compat/tensorflow_stub/dtypes.py:543: FutureWarning: Passing (type, 1) or '1type' as a synonym of type is deprecated; in a future version of numpy, it will be understood as (type, (1,)) / '(1,)type'.\n",
      "  _np_qint16 = np.dtype([(\"qint16\", np.int16, 1)])\n",
      "/home/niko/.local/lib/python3.7/site-packages/tensorboard/compat/tensorflow_stub/dtypes.py:544: FutureWarning: Passing (type, 1) or '1type' as a synonym of type is deprecated; in a future version of numpy, it will be understood as (type, (1,)) / '(1,)type'.\n",
      "  _np_quint16 = np.dtype([(\"quint16\", np.uint16, 1)])\n",
      "/home/niko/.local/lib/python3.7/site-packages/tensorboard/compat/tensorflow_stub/dtypes.py:545: FutureWarning: Passing (type, 1) or '1type' as a synonym of type is deprecated; in a future version of numpy, it will be understood as (type, (1,)) / '(1,)type'.\n",
      "  _np_qint32 = np.dtype([(\"qint32\", np.int32, 1)])\n",
      "/home/niko/.local/lib/python3.7/site-packages/tensorboard/compat/tensorflow_stub/dtypes.py:550: FutureWarning: Passing (type, 1) or '1type' as a synonym of type is deprecated; in a future version of numpy, it will be understood as (type, (1,)) / '(1,)type'.\n",
      "  np_resource = np.dtype([(\"resource\", np.ubyte, 1)])\n",
      "Using TensorFlow backend.\n",
      "2023-07-04 18:00:02.978482: I tensorflow/core/platform/cpu_feature_guard.cc:142] Your CPU supports instructions that this TensorFlow binary was not compiled to use: AVX2 AVX512F FMA\n",
      "2023-07-04 18:00:02.997923: I tensorflow/core/platform/profile_utils/cpu_utils.cc:94] CPU Frequency: 2000175000 Hz\n",
      "2023-07-04 18:00:02.998473: I tensorflow/compiler/xla/service/service.cc:168] XLA service 0x2069710 executing computations on platform Host. Devices:\n",
      "2023-07-04 18:00:02.998504: I tensorflow/compiler/xla/service/service.cc:175]   StreamExecutor device (0): <undefined>, <undefined>\n",
      "2023-07-04 18:00:03.001217: I tensorflow/stream_executor/platform/default/dso_loader.cc:42] Successfully opened dynamic library libcuda.so.1\n",
      "2023-07-04 18:00:03.164114: I tensorflow/stream_executor/cuda/cuda_gpu_executor.cc:1005] successful NUMA node read from SysFS had negative value (-1), but there must be at least one NUMA node, so returning NUMA node zero\n",
      "2023-07-04 18:00:03.164875: I tensorflow/compiler/xla/service/service.cc:168] XLA service 0x34569f0 executing computations on platform CUDA. Devices:\n",
      "2023-07-04 18:00:03.164900: I tensorflow/compiler/xla/service/service.cc:175]   StreamExecutor device (0): Tesla T4, Compute Capability 7.5\n",
      "2023-07-04 18:00:03.165124: I tensorflow/stream_executor/cuda/cuda_gpu_executor.cc:1005] successful NUMA node read from SysFS had negative value (-1), but there must be at least one NUMA node, so returning NUMA node zero\n",
      "2023-07-04 18:00:03.165717: I tensorflow/core/common_runtime/gpu/gpu_device.cc:1640] Found device 0 with properties: \n",
      "name: Tesla T4 major: 7 minor: 5 memoryClockRate(GHz): 1.59\n",
      "pciBusID: 0000:00:04.0\n",
      "2023-07-04 18:00:03.165976: I tensorflow/stream_executor/platform/default/dso_loader.cc:42] Successfully opened dynamic library libcudart.so.10.0\n",
      "2023-07-04 18:00:03.167681: I tensorflow/stream_executor/platform/default/dso_loader.cc:42] Successfully opened dynamic library libcublas.so.10.0\n",
      "2023-07-04 18:00:03.169127: I tensorflow/stream_executor/platform/default/dso_loader.cc:42] Successfully opened dynamic library libcufft.so.10.0\n",
      "2023-07-04 18:00:03.169486: I tensorflow/stream_executor/platform/default/dso_loader.cc:42] Successfully opened dynamic library libcurand.so.10.0\n",
      "2023-07-04 18:00:03.171581: I tensorflow/stream_executor/platform/default/dso_loader.cc:42] Successfully opened dynamic library libcusolver.so.10.0\n",
      "2023-07-04 18:00:03.173032: I tensorflow/stream_executor/platform/default/dso_loader.cc:42] Successfully opened dynamic library libcusparse.so.10.0\n",
      "2023-07-04 18:00:03.177565: I tensorflow/stream_executor/platform/default/dso_loader.cc:42] Successfully opened dynamic library libcudnn.so.7\n",
      "2023-07-04 18:00:03.177691: I tensorflow/stream_executor/cuda/cuda_gpu_executor.cc:1005] successful NUMA node read from SysFS had negative value (-1), but there must be at least one NUMA node, so returning NUMA node zero\n",
      "2023-07-04 18:00:03.178265: I tensorflow/stream_executor/cuda/cuda_gpu_executor.cc:1005] successful NUMA node read from SysFS had negative value (-1), but there must be at least one NUMA node, so returning NUMA node zero\n",
      "2023-07-04 18:00:03.178778: I tensorflow/core/common_runtime/gpu/gpu_device.cc:1763] Adding visible gpu devices: 0\n",
      "2023-07-04 18:00:03.178824: I tensorflow/stream_executor/platform/default/dso_loader.cc:42] Successfully opened dynamic library libcudart.so.10.0\n",
      "2023-07-04 18:00:03.179602: I tensorflow/core/common_runtime/gpu/gpu_device.cc:1181] Device interconnect StreamExecutor with strength 1 edge matrix:\n",
      "2023-07-04 18:00:03.179621: I tensorflow/core/common_runtime/gpu/gpu_device.cc:1187]      0 \n",
      "2023-07-04 18:00:03.179628: I tensorflow/core/common_runtime/gpu/gpu_device.cc:1200] 0:   N \n",
      "2023-07-04 18:00:03.179768: I tensorflow/stream_executor/cuda/cuda_gpu_executor.cc:1005] successful NUMA node read from SysFS had negative value (-1), but there must be at least one NUMA node, so returning NUMA node zero\n",
      "2023-07-04 18:00:03.180435: I tensorflow/stream_executor/cuda/cuda_gpu_executor.cc:1005] successful NUMA node read from SysFS had negative value (-1), but there must be at least one NUMA node, so returning NUMA node zero\n",
      "2023-07-04 18:00:03.181074: I tensorflow/core/common_runtime/gpu/gpu_device.cc:1326] Created TensorFlow device (/device:GPU:0 with 14159 MB memory) -> physical GPU (device: 0, name: Tesla T4, pci bus id: 0000:00:04.0, compute capability: 7.5)\n"
     ]
    }
   ],
   "source": [
    "import os\n",
    "from mrcnn.model import MaskRCNN\n",
    "# ROOT\n",
    "ROOT = os.getcwd()\n",
    "DATASET = os.path.join(ROOT,'dataset')\n",
    "\n",
    "IMAGE_DIR =  os.path.join(DATASET,'images')\n",
    "ANNOTATIONS_DIR = os.path.join(DATASET,'annotations')\n",
    "LOG = os.path.join(ROOT,'logs')\n"
   ]
  },
  {
   "cell_type": "code",
   "execution_count": 4,
   "metadata": {},
   "outputs": [],
   "source": [
    "\n",
    "from cch_dataSet import CchDataset\n",
    "train_set = CchDataset()\n",
    "\n",
    "#  organize data\n",
    "(images, annotations, path_ids) = train_set.prepare_dataset(IMAGE_DIR,ANNOTATIONS_DIR)\n",
    "train_set.load_dataset(images,annotations,path_ids,True)\n",
    "train_set.prepare()\n",
    "\n",
    "# validation/test\n",
    "test_set = CchDataset()\n",
    "test_set.load_dataset(images,annotations,path_ids,False)\n",
    "test_set.prepare()\n"
   ]
  },
  {
   "cell_type": "code",
   "execution_count": 5,
   "metadata": {},
   "outputs": [],
   "source": [
    "from mrcnn.model import load_image_gt\n",
    "from mrcnn.model import mold_image\n",
    "from mrcnn.utils import compute_ap\n",
    "from mrcnn.config import Config\n",
    "\n",
    "from numpy import expand_dims, mean\n",
    "\n",
    "\n",
    "class InferConfig(Config):\n",
    "   # name of the configuration\n",
    "    NAME = \"cochonilha\"\n",
    "    # ch class + background class\n",
    "    NUM_CLASSES = 3 + 1\n",
    "    #otimizations\n",
    "    BACKBONE = \"resnet50\"\n",
    "    \n",
    "    MAX_GT_INSTANCES = 100\n",
    "    GPU_COUNT = 1\n",
    "    # deixar igual em batch size\n",
    "    IMAGES_PER_GPU = 1\n",
    "    \n",
    "    BATCH_SIZE = 1\n",
    "    # amostras/batch\n",
    "    # X2\n",
    "    STEPS_PER_EPOCH = 112\n",
    "    # validation steps\n",
    "    VALIDATION_STEPS = 25\n",
    "    \n",
    "    DETECTION_MAX_INSTANCES = 100\n",
    "    DETECTION_MIN_CONFIDENCE = 0.7\n",
    "    DETECTION_NMS_THRESHOLD = 0.3\n",
    "    \n",
    "   \n",
    "    IMAGE_CHANNEL_COUNT = 3\n",
    "    IMAGE_MAX_DIM = 384\n",
    "    \n",
    "    IMAGE_META_SIZE = 16\n",
    "    IMAGE_MIN_DIM = 300\n",
    "    # IMAGE_MIN_SCALE = 0\n",
    "    IMAGE_RESIZE_MODE = 'square'\n",
    "    IMAGE_SHAPE = [300,300,3]\n",
    "\n",
    "def evaluate_model(dataset, model, cfg):\n",
    "\n",
    "  # cfg.BATCH_SIZE = 1\n",
    "  # print(f'lengh = {cfg.BATCH_SIZE}')\n",
    " \n",
    "  APs = []\n",
    "  for image_id in dataset.image_ids:\n",
    "        \n",
    "\t\t\n",
    "    image, image_meta, gt_class_id, gt_bbox, gt_mask = load_image_gt(dataset, cfg, image_id, use_mini_mask=False)\n",
    "\n",
    "    \n",
    "    scaled_image = mold_image(image, cfg)\n",
    "    \n",
    "    # sample = expand_dims(scaled_image, 0)\n",
    "    \n",
    "    yhat = model.detect([scaled_image], verbose=0)\n",
    "\t\t\n",
    "    r = yhat[0]\n",
    "\t\t\n",
    "    AP, precisions, recalls, overlaps = compute_ap(gt_bbox, gt_class_id, gt_mask, \n",
    "                                                          r[\"rois\"], r[\"class_ids\"], r[\"scores\"], \n",
    "                                                          r['masks'], iou_threshold=0.5)\n",
    "\t\t\n",
    "    APs.append(AP)\n",
    "\n",
    "  mAP = mean(APs)\n",
    "  return mAP"
   ]
  },
  {
   "cell_type": "code",
   "execution_count": 45,
   "metadata": {},
   "outputs": [
    {
     "name": "stdout",
     "output_type": "stream",
     "text": [
      "len-train: 138 len-test: 35\n"
     ]
    }
   ],
   "source": [
    "print(f'len-train: {train_set.num_images} len-test: {test_set.num_images}')"
   ]
  },
  {
   "attachments": {},
   "cell_type": "markdown",
   "metadata": {},
   "source": [
    "<h1> modelo #1 b-sm-rpn-anc</h2>"
   ]
  },
  {
   "cell_type": "code",
   "execution_count": 50,
   "metadata": {},
   "outputs": [
    {
     "name": "stdout",
     "output_type": "stream",
     "text": [
      "Re-starting from epoch 8\n"
     ]
    }
   ],
   "source": [
    "# os.sys.path.append('/home/niko/project/pibic_cch_maskRCNN_test/variant-b-sm-rpn-anc')\n",
    "# from cch_config_variant_ import CchConfig\n",
    "\n",
    "model_path = os.path.join(ROOT,'variant-b-sm-rpn-anc/model/cochonilha20230624T0150/mask_rcnn_cochonilha_0008.h5')\n",
    "\n",
    "model = MaskRCNN(mode='inference', model_dir=LOG,config=InferConfig())\n",
    "model.load_weights(model_path, by_name=True)\n",
    "\n",
    "# train\n",
    "train_mAP = evaluate_model(train_set,model,InferConfig)\n",
    "# test\n",
    "test_mAP = evaluate_model(test_set,model,InferConfig)"
   ]
  },
  {
   "cell_type": "code",
   "execution_count": 51,
   "metadata": {},
   "outputs": [
    {
     "name": "stdout",
     "output_type": "stream",
     "text": [
      "Precisão média treino: 0.06724372425312058\n",
      "Precisão média teste: 0.05735007284830014\n"
     ]
    }
   ],
   "source": [
    "print(f'Precisão média treino: { train_mAP}')\n",
    "print(f'Precisão média teste: { test_mAP}')"
   ]
  },
  {
   "attachments": {},
   "cell_type": "markdown",
   "metadata": {},
   "source": [
    "<h1> modelo #2 c-delta</h2>"
   ]
  },
  {
   "cell_type": "code",
   "execution_count": 8,
   "metadata": {},
   "outputs": [
    {
     "name": "stdout",
     "output_type": "stream",
     "text": [
      "Re-starting from epoch 5\n"
     ]
    }
   ],
   "source": [
    "\n",
    "model_path = os.path.join(ROOT,'variant-c-delta/model/cochonilha20230624T1314/mask_rcnn_cochonilha_0005.h5')\n",
    "\n",
    "model = MaskRCNN(mode='inference', model_dir=LOG,config=InferConfig())\n",
    "model.load_weights(model_path, by_name=True)\n",
    "\n",
    "# train\n",
    "train_mAP = evaluate_model(train_set,model,InferConfig)\n",
    "# test\n",
    "test_mAP = evaluate_model(test_set,model,InferConfig)"
   ]
  },
  {
   "cell_type": "code",
   "execution_count": 9,
   "metadata": {},
   "outputs": [
    {
     "name": "stdout",
     "output_type": "stream",
     "text": [
      "Precisão média treino: 0.037823336128032334\n",
      "Precisão média teste: 0.030157139045851572\n"
     ]
    }
   ],
   "source": [
    "print(f'Precisão média treino: { train_mAP}')\n",
    "print(f'Precisão média teste: { test_mAP}')"
   ]
  },
  {
   "attachments": {},
   "cell_type": "markdown",
   "metadata": {},
   "source": [
    "<h1> modelo #3 e-more-layers</h2>"
   ]
  },
  {
   "cell_type": "code",
   "execution_count": null,
   "metadata": {},
   "outputs": [],
   "source": [
    "\n",
    "model_path = os.path.join(ROOT,'variant-e-more-layers/model/final/mask_rcnn_cochonilha_0004.h5')\n",
    "\n",
    "model = MaskRCNN(mode='inference', model_dir=LOG,config=InferConfig())\n",
    "model.load_weights(model_path, by_name=True)\n",
    "\n",
    "# train\n",
    "train_mAP = evaluate_model(train_set,model,InferConfig)\n",
    "# test\n",
    "test_mAP = evaluate_model(test_set,model,InferConfig)"
   ]
  },
  {
   "cell_type": "code",
   "execution_count": 7,
   "metadata": {},
   "outputs": [
    {
     "name": "stdout",
     "output_type": "stream",
     "text": [
      "Precisão média treino: 0.018449396514873682\n",
      "Precisão média teste: 0.012996260518474238\n"
     ]
    }
   ],
   "source": [
    "print(f'Precisão média treino: { train_mAP}')\n",
    "print(f'Precisão média teste: { test_mAP}')"
   ]
  }
 ],
 "metadata": {
  "kernelspec": {
   "display_name": "Python 3",
   "language": "python",
   "name": "python3"
  },
  "language_info": {
   "codemirror_mode": {
    "name": "ipython",
    "version": 3
   },
   "file_extension": ".py",
   "mimetype": "text/x-python",
   "name": "python",
   "nbconvert_exporter": "python",
   "pygments_lexer": "ipython3",
   "version": "3.7.17"
  },
  "orig_nbformat": 4
 },
 "nbformat": 4,
 "nbformat_minor": 2
}
